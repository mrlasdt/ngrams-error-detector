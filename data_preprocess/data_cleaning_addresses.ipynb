{
 "cells": [
  {
   "cell_type": "code",
   "execution_count": 1,
   "metadata": {},
   "outputs": [
    {
     "name": "stderr",
     "output_type": "stream",
     "text": [
      "/home/sds/miniconda3/envs/nltk3.5/lib/python3.9/site-packages/tqdm/auto.py:22: TqdmWarning: IProgress not found. Please update jupyter and ipywidgets. See https://ipywidgets.readthedocs.io/en/stable/user_install.html\n",
      "  from .autonotebook import tqdm as notebook_tqdm\n"
     ]
    },
    {
     "data": {
      "text/plain": [
       "['48/4 Khu Phố 2,Quốc Lộ 1A, P. Trung Mỹ Tây, Q. 12, Tp. Hồ Chí Minh (TPHCM), Việt Nam',\n",
       " '347 Hoàng Hoa Thám, Q. Ba Đình, Hà Nội, Việt Nam',\n",
       " '145 Calmette, P. Nguyễn Thái Bình, Q. 1, Tp. Hồ Chí Minh (TPHCM), Việt Nam',\n",
       " 'Khu Công Nghiệp Hố Nai, 7 Đường 7, H. Trảng Bom, Đồng Nai, Việt Nam',\n",
       " '899 Kinh Dương Vương, P. An Lạc, Q. Bình Tân, Tp. Hồ Chí Minh (TPHCM), Việt Nam']"
      ]
     },
     "execution_count": 1,
     "metadata": {},
     "output_type": "execute_result"
    }
   ],
   "source": [
    "from utils import read_data, write_data\n",
    "import config_ngram as cfg\n",
    "# data = read_data(cfg.ADDRESSES_TRAIN_PATH)\n",
    "with open(cfg.ADDRESSES_TRAIN_PATH, 'r') as f:\n",
    "    data = f.read().splitlines()\n",
    "data[:5]"
   ]
  },
  {
   "cell_type": "code",
   "execution_count": 2,
   "metadata": {},
   "outputs": [
    {
     "name": "stdout",
     "output_type": "stream",
     "text": [
      "81 Hồ Văn Huê, P. 9, Q. Phú Nhuận, Tp. Hồ Chí MinhHotline: Mr. Cường: 0903 837 500 - Mr. Phương: 0903 010 750 , Việt Nam\n"
     ]
    },
    {
     "data": {
      "text/plain": [
       "'81 Hồ Văn Huê, P. 9, Q. Phú Nhuận, Tp. Hồ Chí Minh'"
      ]
     },
     "execution_count": 2,
     "metadata": {},
     "output_type": "execute_result"
    }
   ],
   "source": [
    "print(data[137341])\n",
    "data[137341] = data[137341][:50]\n",
    "data[137341]"
   ]
  },
  {
   "cell_type": "code",
   "execution_count": 3,
   "metadata": {},
   "outputs": [
    {
     "name": "stdout",
     "output_type": "stream",
     "text": [
      "62A Châu Văn Liêm, P. 11, Q. 5, Tp. Hồ Chí MinhHotline: Mrs. Nga: 0908 132 889 , Việt Nam\n"
     ]
    },
    {
     "data": {
      "text/plain": [
       "'62A Châu Văn Liêm, P. 11, Q. 5, Tp. Hồ Chí Minh'"
      ]
     },
     "execution_count": 3,
     "metadata": {},
     "output_type": "execute_result"
    }
   ],
   "source": [
    "print(data[22681])\n",
    "data[22681] = data[22681][:47]\n",
    "data[22681]"
   ]
  },
  {
   "cell_type": "code",
   "execution_count": 4,
   "metadata": {},
   "outputs": [
    {
     "name": "stdout",
     "output_type": "stream",
     "text": [
      "Lô 4 5 6 Phước Mỹ Mở Rộng, P. An Hải Bắc, Q. Sơn Trà, Tp. Đà Nẵng, Việt Nam\n"
     ]
    }
   ],
   "source": [
    "print(data[32893])\n",
    "data[32893] = 'Lô 4-5-6 Phước Mỹ Mở Rộng, P. An Hải Bắc, Q. Sơn Trà, Tp. Đà Nẵng, Việt Nam\\n'"
   ]
  },
  {
   "cell_type": "code",
   "execution_count": 5,
   "metadata": {},
   "outputs": [
    {
     "name": "stdout",
     "output_type": "stream",
     "text": [
      "2E/12 Đường số 34, P.1 0, Q. 6, Tp. Hồ Chí Minh (TPHCM), Việt Nam\n"
     ]
    }
   ],
   "source": [
    "print(data[132954])\n",
    "data[132954] = '2E/12 Đường số 34, P.10, Q. 6, Tp. Hồ Chí Minh (TPHCM), Việt Nam\\n'"
   ]
  },
  {
   "cell_type": "code",
   "execution_count": 6,
   "metadata": {},
   "outputs": [
    {
     "name": "stdout",
     "output_type": "stream",
     "text": [
      "P6 -1101, Tòa Nhà Dongfangmingzhu, Q. Longgang, TP. Thẩm Quyến, Quảng Đông, Trung Quốc\n"
     ]
    }
   ],
   "source": [
    "print(data[104314])\n",
    "data[104314] = 'P6-1101, Tòa Nhà Dongfangmingzhu, Q. Longgang, TP. Thẩm Quyến, Quảng Đông, Trung Quốc\\n'"
   ]
  },
  {
   "cell_type": "code",
   "execution_count": 7,
   "metadata": {},
   "outputs": [
    {
     "name": "stdout",
     "output_type": "stream",
     "text": [
      "Số nhà RS7.SH05, Tầng 1, Thỏp RS7, Tũa nhà Richstar Residenc - Phường Hiệp Tõn - Quận Tõn Phỳ - TP Hồ Chớ Minh. Tp. Hồ Chí Minh (TPHCM), Việt Nam\n"
     ]
    }
   ],
   "source": [
    "print(data[163])\n",
    "# del data[163]\n",
    "data[163]=''"
   ]
  },
  {
   "cell_type": "code",
   "execution_count": 8,
   "metadata": {},
   "outputs": [
    {
     "name": "stdout",
     "output_type": "stream",
     "text": [
      "270B/22/5 Lý Thương Kiệt, Phường 6, Quận Tân Bình, Tp. Hồ Chí Minh (TPHCM), Việt Nam\n",
      "37 Lý Thương Kiệt, Quận Hoàn Kiếm, Hà Nội, Việt Nam\n",
      "37 Lý Thương Kiệt, Quận Hoàn Kiếm, Hà Nội, Việt Nam\n",
      "179C Lý Thương Kiệt, P. 8,  Q. Tân Bình, Tp. Hồ Chí Minh (TPHCM), Việt Nam\n"
     ]
    }
   ],
   "source": [
    "print(data[106274])\n",
    "data[106274] = \"270B/22/5 Lý Thường Kiệt, Phường 6, Quận Tân Bình, Tp. Hồ Chí Minh (TPHCM), Việt Nam\"\n",
    "print(data[58574])\n",
    "data[58574] = \"37 Lý Thường Kiệt, Quận Hoàn Kiếm, Hà Nội, Việt Nam\"\n",
    "print(data[58883])\n",
    "data[58883] = \"37 Lý Thường Kiệt, Quận Hoàn Kiếm, Hà Nội, Việt Nam\"\n",
    "print(data[107707])\n",
    "data[107707] = \"179C Lý Thường Kiệt, P. 8,  Q. Tân Bình, Tp. Hồ Chí Minh (TPHCM), Việt Nam\"\n"
   ]
  },
  {
   "cell_type": "code",
   "execution_count": 9,
   "metadata": {},
   "outputs": [
    {
     "data": {
      "text/plain": [
       "'Tầng 2, Tòa Nhà Cowaelmic, 168/75 D2, Phường 25, Quận Bình Thạnh, Tp. Hồ Chí Minh (TPHCM), Việt Nam'"
      ]
     },
     "execution_count": 9,
     "metadata": {},
     "output_type": "execute_result"
    }
   ],
   "source": [
    "#<NUMBER> <NUMBER>\n",
    "data[10206]"
   ]
  },
  {
   "cell_type": "code",
   "execution_count": 10,
   "metadata": {},
   "outputs": [
    {
     "name": "stdout",
     "output_type": "stream",
     "text": [
      "9A Hồ Biểu Chánh, Q. Phú Nhuân, Tp. Hồ Chí Minh (TPHCM), Việt Nam\n"
     ]
    }
   ],
   "source": [
    "print(data[44558])\n",
    "data[44558] = '9A Hồ Biểu Chánh, Q. Phú Nhuận, Tp. Hồ Chí Minh (TPHCM), Việt Nam'"
   ]
  },
  {
   "cell_type": "code",
   "execution_count": 11,
   "metadata": {},
   "outputs": [
    {
     "name": "stdout",
     "output_type": "stream",
     "text": [
      "Số 4 Nguyễn Đinh Chiểu, P. Đa Kao, Q. 1, Tp. Hồ Chí Minh (TPHCM), Việt Nam\n"
     ]
    }
   ],
   "source": [
    "print(data[141426])\n",
    "data[141426] = 'Số 4 Nguyễn Đình Chiểu, P. Đa Kao, Q. 1, Tp. Hồ Chí Minh (TPHCM), Việt Nam'"
   ]
  },
  {
   "cell_type": "code",
   "execution_count": 12,
   "metadata": {},
   "outputs": [
    {
     "name": "stdout",
     "output_type": "stream",
     "text": [
      "Tầng 3, số 158 phố Hạ Đình, P.Thanh Xuân Trung, Q.Thành Xuân, Hà Nội, Việt Nam\n",
      "Tầng 3, số 158 phố Hạ Đình, P.Thanh Xuân Trung, Q.Thành Xuân, Hà Nội, Việt Nam\n"
     ]
    }
   ],
   "source": [
    "print(data[27820])\n",
    "data[27820] = 'Tầng 3, số 158 phố Hạ Đình, P.Thanh Xuân Trung, Q.Thanh Xuân, Hà Nội, Việt Nam'\n",
    "print(data[34567])\n",
    "data[34567] = 'Tầng 3, số 158 phố Hạ Đình, P.Thanh Xuân Trung, Q.Thanh Xuân, Hà Nội, Việt Nam'\n",
    "\n"
   ]
  },
  {
   "cell_type": "code",
   "execution_count": 13,
   "metadata": {},
   "outputs": [],
   "source": [
    "for i in range(len(data)):\n",
    "    \n",
    "    data[i] = data[i].replace('Nguyễn Bình Khiêm', 'Nguyễn Bỉnh Khiêm')\n",
    "    data[i] = data[i].replace('Hà Nôi', 'Hà Nội')\n",
    "    data[i] = data[i].replace('q. thủ đức', 'thành phố thủ đức')\n",
    "    data[i] = data[i].replace('Q. Thủ Đức', 'thành phố thủ đức')\n",
    "    data[i] = data[i].replace('quận thủ đức', 'thành phố thủ đức')\n",
    "    data[i] = data[i].replace('Quận Thủ Đức', 'thành phố thủ đức')"
   ]
  },
  {
   "cell_type": "code",
   "execution_count": 14,
   "metadata": {},
   "outputs": [],
   "source": [
    "data[153215] = '471 QL13, kp 5, P. Hiệp Bình Phước , thành phố thủ đức, Tp. Hồ Chí Minh (TPHCM), Việt Nam'"
   ]
  },
  {
   "cell_type": "code",
   "execution_count": 15,
   "metadata": {},
   "outputs": [
    {
     "data": {
      "text/plain": [
       "'59 Điện Biên Phủ, P. Chính Gián, Q. Thanh Khê, Tp. Đà Nẵng, Việt Nam'"
      ]
     },
     "execution_count": 15,
     "metadata": {},
     "output_type": "execute_result"
    }
   ],
   "source": [
    "data[70]"
   ]
  },
  {
   "cell_type": "code",
   "execution_count": 16,
   "metadata": {},
   "outputs": [
    {
     "name": "stdout",
     "output_type": "stream",
     "text": [
      "[INFO]: Saved to  corpus/address_train_cleaned.txt\n"
     ]
    }
   ],
   "source": [
    "write_data(cfg.ADDRESSES_TRAIN_PATH_CLEANED, data)"
   ]
  }
 ],
 "metadata": {
  "interpreter": {
   "hash": "bc8613293c377bbbc2820b8f9c6c03a1fb61ec96189c2e9445a5f113935387ae"
  },
  "kernelspec": {
   "display_name": "Python 3.9.12 ('nltk3.5')",
   "language": "python",
   "name": "python3"
  },
  "language_info": {
   "codemirror_mode": {
    "name": "ipython",
    "version": 3
   },
   "file_extension": ".py",
   "mimetype": "text/x-python",
   "name": "python",
   "nbconvert_exporter": "python",
   "pygments_lexer": "ipython3",
   "version": "3.9.15"
  },
  "orig_nbformat": 4,
  "vscode": {
   "interpreter": {
    "hash": "bc8613293c377bbbc2820b8f9c6c03a1fb61ec96189c2e9445a5f113935387ae"
   }
  }
 },
 "nbformat": 4,
 "nbformat_minor": 2
}
